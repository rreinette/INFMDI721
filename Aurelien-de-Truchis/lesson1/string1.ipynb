{
 "cells": [
  {
   "cell_type": "code",
   "execution_count": 3,
   "metadata": {},
   "outputs": [],
   "source": [
    "# A. donuts\n",
    "# Given an int count of a number of donuts, return a string\n",
    "# of the form 'Number of donuts: <count>', where <count> is the number\n",
    "# passed in. However, if the count is 10 or more, then use the word 'many'\n",
    "# instead of the actual count.\n",
    "# So donuts(5) returns 'Number of donuts: 5'\n",
    "# and donuts(23) returns 'Number of donuts: many'\n",
    "def donuts(count):\n",
    "  if count<10:\n",
    "    print('Number of donuts:', count)\n",
    "  else:\n",
    "    print('Number of donuts: many')\n",
    "        "
   ]
  },
  {
   "cell_type": "code",
   "execution_count": 6,
   "metadata": {},
   "outputs": [],
   "source": [
    "# B. both_ends\n",
    "# Given a string s, return a string made of the first 2\n",
    "# and the last 2 chars of the original string,\n",
    "# so 'spring' yields 'spng'. However, if the string length\n",
    "# is less than 2, return instead the empty string.\n",
    "def both_ends(s):\n",
    "  if len(s)>2:\n",
    "    print(s[:2]+s[-2:])\n",
    "  else:\n",
    "    print ('')\n"
   ]
  },
  {
   "cell_type": "code",
   "execution_count": 15,
   "metadata": {},
   "outputs": [],
   "source": [
    "# C. fix_start\n",
    "# Given a string s, return a string\n",
    "# where all occurences of its first char have\n",
    "# been changed to '*', except do not change\n",
    "# the first char itself.\n",
    "# e.g. 'babble' yields 'ba**le'\n",
    "# Assume that the string is length 1 or more.\n",
    "# Hint: s.replace(stra, strb) returns a version of string s\n",
    "# where all instances of stra have been replaced by strb.\n",
    "def fix_start(s):\n",
    "  a=s[0]\n",
    "  s=s.replace(a,'*')\n",
    "  s=a+s[1:]  \n",
    "  return(s)\n"
   ]
  },
  {
   "cell_type": "code",
   "execution_count": 22,
   "metadata": {},
   "outputs": [],
   "source": [
    "# D. MixUp\n",
    "# Given strings a and b, return a single string with a and b separated\n",
    "# by a space '<a> <b>', except swap the first 2 chars of each string.\n",
    "# e.g.\n",
    "#   'mix', pod' -> 'pox mid'\n",
    "#   'dog', 'dinner' -> 'dig donner'\n",
    "# Assume a and b are length 2 or more.\n",
    "def mix_up(a, b):\n",
    "  a=b[0]+a[1:]\n",
    "  b=a[0]+b[1:]\n",
    "  print(a +' '+ b)"
   ]
  },
  {
   "cell_type": "code",
   "execution_count": 25,
   "metadata": {},
   "outputs": [],
   "source": [
    "# Provided simple test() function used in main() to print\n",
    "# what each function returns vs. what it's supposed to return.\n",
    "def test(got, expected):\n",
    "  if got == expected:\n",
    "    prefix = ' OK '\n",
    "  else:\n",
    "    prefix = '  X '\n",
    "  print ('%s got: %s expected: %s' % (prefix, repr(got), repr(expected)))"
   ]
  },
  {
   "cell_type": "code",
   "execution_count": 29,
   "metadata": {},
   "outputs": [
    {
     "name": "stdout",
     "output_type": "stream",
     "text": [
      "Number of donuts: 4\n",
      "  X  got: None expected: 'Number of donuts: 4'\n",
      "Number of donuts: 9\n",
      "  X  got: None expected: 'Number of donuts: 9'\n",
      "Number of donuts: many\n",
      "  X  got: None expected: 'Number of donuts: many'\n",
      "Number of donuts: many\n",
      "  X  got: None expected: 'Number of donuts: many'\n",
      "spng\n",
      "  X  got: None expected: 'spng'\n",
      "Helo\n",
      "  X  got: None expected: 'Helo'\n",
      "\n",
      "  X  got: None expected: ''\n",
      "xyyz\n",
      "  X  got: None expected: 'xyyz'\n",
      " OK  got: 'ba**le' expected: 'ba**le'\n",
      " OK  got: 'a*rdv*rk' expected: 'a*rdv*rk'\n",
      " OK  got: 'goo*le' expected: 'goo*le'\n",
      " OK  got: 'donut' expected: 'donut'\n",
      "pix pod\n",
      "  X  got: None expected: 'pox mid'\n",
      "dog dinner\n",
      "  X  got: None expected: 'dig donner'\n",
      "snash sport\n",
      "  X  got: None expected: 'spash gnort'\n",
      "fezzy firm\n",
      "  X  got: None expected: 'fizzy perm'\n"
     ]
    }
   ],
   "source": [
    "# Provided main() calls the above functions with interesting inputs,\n",
    "# using test() to check if each result is correct or not.\n",
    "def main():\n",
    " \n",
    "  # Each line calls donuts, compares its result to the expected for that call.\n",
    "  test(donuts(4), 'Number of donuts: 4')\n",
    "  test(donuts(9), 'Number of donuts: 9')\n",
    "  test(donuts(10), 'Number of donuts: many')\n",
    "  test(donuts(99), 'Number of donuts: many')\n",
    "\n",
    "\n",
    "  test(both_ends('spring'), 'spng')\n",
    "  test(both_ends('Hello'), 'Helo')\n",
    "  test(both_ends('a'), '')\n",
    "  test(both_ends('xyz'), 'xyyz')\n",
    "\n",
    "  \n",
    "\n",
    "  test(fix_start('babble'), 'ba**le')\n",
    "  test(fix_start('aardvark'), 'a*rdv*rk')\n",
    "  test(fix_start('google'), 'goo*le')\n",
    "  test(fix_start('donut'), 'donut')\n",
    "\n",
    " \n",
    "  test(mix_up('mix', 'pod'), 'pox mid')\n",
    "  test(mix_up('dog', 'dinner'), 'dig donner')\n",
    "  test(mix_up('gnash', 'sport'), 'spash gnort')\n",
    "  test(mix_up('pezzy', 'firm'), 'fizzy perm')\n",
    "\n",
    "\n",
    "# Standard boilerplate to call the main() function.\n",
    "if __name__ == '__main__':\n",
    "  main()"
   ]
  },
  {
   "cell_type": "code",
   "execution_count": null,
   "metadata": {
    "collapsed": true
   },
   "outputs": [],
   "source": []
  }
 ],
 "metadata": {
  "kernelspec": {
   "display_name": "Python 3",
   "language": "python",
   "name": "python3"
  },
  "language_info": {
   "codemirror_mode": {
    "name": "ipython",
    "version": 3
   },
   "file_extension": ".py",
   "mimetype": "text/x-python",
   "name": "python",
   "nbconvert_exporter": "python",
   "pygments_lexer": "ipython3",
   "version": "3.6.1"
  }
 },
 "nbformat": 4,
 "nbformat_minor": 2
}
