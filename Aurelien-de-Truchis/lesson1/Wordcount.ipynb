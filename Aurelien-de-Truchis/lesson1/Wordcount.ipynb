{
 "cells": [
  {
   "cell_type": "code",
   "execution_count": null,
   "metadata": {
    "collapsed": true
   },
   "outputs": [],
   "source": [
    "# Define print_words(filename) and print_top(filename) functions.\n",
    "# You could write a helper utility function that reads a file\n",
    "# and builds and returns a word/count dict for it.\n",
    "# Then print_words() and print_top() can just call the utility function.\n",
    "\n",
    "###\n",
    "import sys\n",
    "\n",
    "def build_dict(file)\n",
    "dict={}\n",
    "text = open(file,'r')\n",
    "    for line in text:\n",
    "        words = line.split()\n",
    "        for word in words:\n",
    "            word=word.lower()\n",
    "            if not word in dict:\n",
    "                dic[word]=1\n",
    "            else\n",
    "                dict[word]=dict[word]+1\n",
    "    return dict\n",
    "\n",
    "def print_words(file):\n",
    "  dic = build_dict(file)\n",
    "  words = sorted(word_count.keys())\n",
    "  for word in words:\n",
    "    print word, word_count[word]\n",
    "\n",
    "\n",
    "def get_count(word_count_tuple):\n",
    "  return word_count_tuple[1]\n",
    "\n",
    "\n",
    "def print_top(filename):\n",
    "  dict = build_dict(filename)\n",
    "  items = sorted(word_count.items(), key=get_count, reverse=True)\n",
    "  for item in items[:20]:\n",
    "    print item[0], item[1]\n",
    "\n",
    "    def main():\n",
    "  if len(sys.argv) != 3:\n",
    "    print 'usage: ./wordcount.py {--count | --topcount} file'\n",
    "    sys.exit(1)\n",
    "\n",
    "  option = sys.argv[1]\n",
    "  filename = sys.argv[2]\n",
    "  if option == '--count':\n",
    "    print_words(filename)\n",
    "  elif option == '--topcount':\n",
    "    print_top(filename)\n",
    "  else:\n",
    "    print 'unknown option: ' + option\n",
    "    sys.exit(1)\n",
    "\n",
    "if __name__ == '__main__':\n",
    "  main()\n"
   ]
  }
 ],
 "metadata": {
  "kernelspec": {
   "display_name": "Python 3",
   "language": "python",
   "name": "python3"
  },
  "language_info": {
   "codemirror_mode": {
    "name": "ipython",
    "version": 3
   },
   "file_extension": ".py",
   "mimetype": "text/x-python",
   "name": "python",
   "nbconvert_exporter": "python",
   "pygments_lexer": "ipython3",
   "version": "3.6.1"
  }
 },
 "nbformat": 4,
 "nbformat_minor": 2
}
