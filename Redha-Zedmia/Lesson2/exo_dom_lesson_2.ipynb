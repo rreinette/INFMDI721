{
 "cells": [
  {
   "cell_type": "code",
   "execution_count": 4,
   "metadata": {
    "collapsed": true
   },
   "outputs": [],
   "source": [
    "#Scraping Paris city budget facts\n",
    "## From year 2010 to 2015\n",
    "### source : http://alize2.finances.gouv.fr"
   ]
  },
  {
   "cell_type": "code",
   "execution_count": 5,
   "metadata": {
    "collapsed": true
   },
   "outputs": [],
   "source": [
    "# Importint library\n",
    "import csv\n",
    "from urllib import urlopen\n",
    "from bs4 import BeautifulSoup\n",
    "import requests"
   ]
  },
  {
   "cell_type": "code",
   "execution_count": 6,
   "metadata": {
    "collapsed": false
   },
   "outputs": [],
   "source": [
    "## Scraping all the elements of the first table and store it in a CSV for further usage (recommended in case the data\n",
    "## would not be available anymore)\n",
    "\n",
    "def PageParisBudgetToCsv(firstyear,lastyear):\n",
    "    \"\"\"\n",
    "    Params\n",
    "    firstyear : first budget year to be collected\n",
    "    lastyear : last budget year to be collected\n",
    "    \"\"\"\n",
    "    for year in range(firstyear,lastyear+1):\n",
    "        csvFile = open(\"paris%d.csv\"%year, 'wt')\n",
    "        writer = csv.writer(csvFile)\n",
    "\n",
    "        baseurl = \"http://alize2.finances.gouv.fr/communes/eneuro/detail.php?icom=056&dep=075&type=BPS&param=5&exercice=\"\n",
    "        url = baseurl+str(year)\n",
    "        html = requests.get(url).text\n",
    "        bsObj = BeautifulSoup(html)\n",
    "        table = bsObj.findAll(\"table\")[2]\n",
    "        rows = table.findAll(\"tr\")\n",
    "\n",
    "        for row in rows:\n",
    "            csvRow = []\n",
    "            for cell in row.findAll(['td', 'th']):\n",
    "                csvRow.append(cell.get_text().encode('utf8'))\n",
    "            writer.writerow(csvRow)\n",
    "        csvFile.close()"
   ]
  },
  {
   "cell_type": "code",
   "execution_count": 7,
   "metadata": {
    "collapsed": false
   },
   "outputs": [
    {
     "name": "stderr",
     "output_type": "stream",
     "text": [
      "C:\\Users\\liner\\Anaconda2\\lib\\site-packages\\bs4\\__init__.py:181: UserWarning: No parser was explicitly specified, so I'm using the best available HTML parser for this system (\"lxml\"). This usually isn't a problem, but if you run this code on another system, or in a different virtual environment, it may use a different parser and behave differently.\n",
      "\n",
      "The code that caused this warning is on line 174 of the file C:\\Users\\liner\\Anaconda2\\lib\\runpy.py. To get rid of this warning, change code that looks like this:\n",
      "\n",
      " BeautifulSoup([your markup])\n",
      "\n",
      "to this:\n",
      "\n",
      " BeautifulSoup([your markup], \"lxml\")\n",
      "\n",
      "  markup_type=markup_type))\n"
     ]
    }
   ],
   "source": [
    "PageParisBudgetToCsv(2010,2015)"
   ]
  },
  {
   "cell_type": "code",
   "execution_count": 11,
   "metadata": {
    "collapsed": false
   },
   "outputs": [],
   "source": [
    "#Choosing a year to display budget values\n",
    "\n",
    "def DisplayMainValues(year):\n",
    "    yearAvailable = range(2010,2016)\n",
    "    if year in yearAvailable:\n",
    "\n",
    "        with open(\"paris%d.csv\"%year) as f:\n",
    "            reader = csv.reader(f,delimiter=',')\n",
    "            lookup = ['TOTAL DES PRODUITS DE FONCTIONNEMENT = A','TOTAL DES CHARGES DE FONCTIONNEMENT = B',\n",
    "                      'TOTAL DES RESSOURCES D\\'INVESTISSEMENT = C', 'TOTAL DES EMPLOIS D\\'INVESTISSEMENT = D']\n",
    "            #reader.filter(lambda x : x in lookup )\n",
    "            #for i in lookup:\n",
    "            for row in reader:\n",
    "                #any(i in a for i in b)\n",
    "                #print row\n",
    "                if bool(set(row) & set(lookup)):\n",
    "                #any(elem in lookup for i in row  ):\n",
    "                    #print row\n",
    "                    print row[3][:-4].capitalize()+\" par habitant en \"+str(year)+\" : \"+row[1]\n",
    "                    print row[3][:-4].capitalize()+\" par strate en \"+str(year)+\" : \"+row[2]\n",
    "    else:\n",
    "        print \"Cette annee n'est pas disponible dans l'historique\""
   ]
  },
  {
   "cell_type": "code",
   "execution_count": 15,
   "metadata": {
    "collapsed": false
   },
   "outputs": [
    {
     "name": "stdout",
     "output_type": "stream",
     "text": [
      "Total des produits de fonctionnement par habitant en 2010 : 2 449 \n",
      "Total des produits de fonctionnement par strate en 2010 : 2 449 \n",
      "Total des charges de fonctionnement par habitant en 2010 : 2 241 \n",
      "Total des charges de fonctionnement par strate en 2010 : 2 241 \n",
      "Total des ressources d'investissement par habitant en 2010 : 1 119 \n",
      "Total des ressources d'investissement par strate en 2010 : 1 119 \n",
      "Total des emplois d'investissement par habitant en 2010 : 1 265 \n",
      "Total des emplois d'investissement par strate en 2010 : 1 265 \n"
     ]
    }
   ],
   "source": [
    "#Testing the display\n",
    "DisplayMainValues(2010)"
   ]
  }
 ],
 "metadata": {
  "kernelspec": {
   "display_name": "Python [default]",
   "language": "python",
   "name": "python2"
  },
  "language_info": {
   "codemirror_mode": {
    "name": "ipython",
    "version": 2
   },
   "file_extension": ".py",
   "mimetype": "text/x-python",
   "name": "python",
   "nbconvert_exporter": "python",
   "pygments_lexer": "ipython2",
   "version": "2.7.12"
  }
 },
 "nbformat": 4,
 "nbformat_minor": 1
}
